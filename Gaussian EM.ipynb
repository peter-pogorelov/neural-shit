{
 "cells": [
  {
   "cell_type": "code",
   "execution_count": 727,
   "metadata": {},
   "outputs": [],
   "source": [
    "import torch\n",
    "import math\n",
    "import numpy as np\n",
    "import torch.nn.functional as F\n",
    "\n",
    "import seaborn as sns\n",
    "import matplotlib.pyplot as plt\n",
    "\n",
    "from sklearn.datasets import make_blobs\n",
    "\n",
    "%matplotlib inline"
   ]
  },
  {
   "cell_type": "code",
   "execution_count": 1102,
   "metadata": {},
   "outputs": [],
   "source": [
    "x, y = make_blobs(n_samples=2000, n_features=1, centers=3, cluster_std=0.3)"
   ]
  },
  {
   "cell_type": "code",
   "execution_count": 1103,
   "metadata": {},
   "outputs": [],
   "source": [
    "x = np.squeeze(x)"
   ]
  },
  {
   "cell_type": "code",
   "execution_count": 1104,
   "metadata": {},
   "outputs": [
    {
     "data": {
      "text/plain": [
       "<matplotlib.axes._subplots.AxesSubplot at 0x13324aa58>"
      ]
     },
     "execution_count": 1104,
     "metadata": {},
     "output_type": "execute_result"
    },
    {
     "data": {
      "image/png": "[encoded data removed]",
      "text/plain": [
       "<Figure size 432x288 with 1 Axes>"
      ]
     },
     "metadata": {
      "needs_background": "light"
     },
     "output_type": "display_data"
    }
   ],
   "source": [
    "sns.kdeplot(x)"
   ]
  },
  {
   "cell_type": "code",
   "execution_count": 1105,
   "metadata": {},
   "outputs": [],
   "source": [
    "mnx = np.mean(x)\n",
    "sgx = np.std(x)"
   ]
  },
  {
   "cell_type": "code",
   "execution_count": 1106,
   "metadata": {},
   "outputs": [],
   "source": [
    "x = torch.from_numpy(x).type(torch.float64)\n",
    "x.requires_grad = False"
   ]
  },
  {
   "cell_type": "code",
   "execution_count": 1210,
   "metadata": {},
   "outputs": [],
   "source": [
    "#pnorm = torch.distributions.Normal(torch.tensor([4.0]), torch.tensor([1.]))\n",
    "log_p = torch.tensor([math.log(1./3), math.log(1./3), math.log(1./3)]).type(torch.float64).reshape(3, 1)\n",
    "mu =  torch.tensor([-10, 0, 10]).type(torch.float64).reshape(3, 1)\n",
    "sigm = torch.tensor([1, 1, 1]).type(torch.float64).reshape(3, 1)\n",
    "\n",
    "log_q_i = torch.log(torch.from_numpy(np.random.dirichlet((0.5, 0.5, 0.5), 2000).T))\n",
    "log_q_i.requires_grad = False\n",
    "\n",
    "log_p.requires_grad = True\n",
    "mu.requires_grad = True\n",
    "sigm.requires_grad = True"
   ]
  },
  {
   "cell_type": "code",
   "execution_count": 1212,
   "metadata": {},
   "outputs": [],
   "source": [
    "def log_likelihood():\n",
    "    return torch.mean(log_q_i.exp() * (-1/2*torch.log(sigm) - 1/(2 * sigm ** 2) * (x - mu) ** 2 + log_p)) - (torch.exp(log_p).sum() - 1) ** 2"
   ]
  },
  {
   "cell_type": "code",
   "execution_count": 1213,
   "metadata": {},
   "outputs": [],
   "source": [
    "def logF(x, sigm, mu):\n",
    "    return -1/2*(math.log(2 * math.pi) - torch.log(sigm)) - 1/(2*sigm**2) * ((x - mu) ** 2)\n",
    "    \n",
    "def logE():\n",
    "    logL = logF(x, sigm, mu) + log_p\n",
    "    return logL - torch.logsumexp(logL, dim=0, keepdim=True)"
   ]
  },
  {
   "cell_type": "code",
   "execution_count": 1216,
   "metadata": {},
   "outputs": [],
   "source": [
    "gamma = 0.1"
   ]
  },
  {
   "cell_type": "code",
   "execution_count": 1217,
   "metadata": {},
   "outputs": [],
   "source": [
    "for i in range(100):\n",
    "    #print('logL', log_likelihood())\n",
    "    #print('p', torch.exp(log_p).squeeze())\n",
    "    #print('mi', mu.squeeze())\n",
    "    #print('sigm', sigm.squeeze())\n",
    "    #print('#'*100)\n",
    "    #print('#'*100)\n",
    "    \n",
    "    with torch.no_grad():\n",
    "        log_q_i = logE()\n",
    "    \n",
    "    for j in range(50):\n",
    "        L = log_likelihood()\n",
    "        L.backward()\n",
    "\n",
    "        with torch.no_grad():\n",
    "            # maximization\n",
    "            log_p += gamma / 100 * log_p.grad\n",
    "            mu += gamma * mu.grad\n",
    "            sigm += gamma * sigm.grad\n",
    "            # expectation\n",
    "        log_p.grad = None\n",
    "        mu.grad = None\n",
    "        sigm.grad = None\n",
    "        \n",
    "        log_p.requires_grad = True\n",
    "        mu.requires_grad = True\n",
    "        sigm.requires_grad = True"
   ]
  },
  {
   "cell_type": "code",
   "execution_count": 1218,
   "metadata": {},
   "outputs": [
    {
     "name": "stdout",
     "output_type": "stream",
     "text": [
      "[0.3814612  0.38138922 0.38128323]\n",
      "[-9.39555884 -0.5998915   6.75553993]\n",
      "[0.43318211 0.398093   0.42455279]\n"
     ]
    }
   ],
   "source": [
    "print(log_p.exp().squeeze().detach().numpy())\n",
    "print(mu.squeeze().detach().numpy())\n",
    "print(sigm.squeeze().detach().numpy())"
   ]
  },
  {
   "cell_type": "code",
   "execution_count": 1219,
   "metadata": {},
   "outputs": [],
   "source": [
    "classes = log_q_i.argmax(0).numpy()\n",
    "x_src = x.numpy()"
   ]
  },
  {
   "cell_type": "code",
   "execution_count": 1220,
   "metadata": {},
   "outputs": [
    {
     "data": {
      "text/plain": [
       "<matplotlib.axes._subplots.AxesSubplot at 0x133320630>"
      ]
     },
     "execution_count": 1220,
     "metadata": {},
     "output_type": "execute_result"
    },
    {
     "data": {
      "image/png": "[encoded data removed]",
      "text/plain": [
       "<Figure size 432x288 with 1 Axes>"
      ]
     },
     "metadata": {
      "needs_background": "light"
     },
     "output_type": "display_data"
    }
   ],
   "source": [
    "sns.scatterplot(x_src, np.zeros_like(x_src), classes)"
   ]
  },
  {
   "cell_type": "code",
   "execution_count": null,
   "metadata": {},
   "outputs": [],
   "source": []
  }
 ],
 "metadata": {
  "kernelspec": {
   "display_name": "Python 3",
   "language": "python",
   "name": "python3"
  },
  "language_info": {
   "codemirror_mode": {
    "name": "ipython",
    "version": 3
   },
   "file_extension": ".py",
   "mimetype": "text/x-python",
   "name": "python",
   "nbconvert_exporter": "python",
   "pygments_lexer": "ipython3",
   "version": "3.7.3"
  }
 },
 "nbformat": 4,
 "nbformat_minor": 2
}
