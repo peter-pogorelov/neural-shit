{
 "cells": [
  {
   "cell_type": "code",
   "execution_count": 185,
   "metadata": {},
   "outputs": [],
   "source": [
    "from sklearn.datasets import make_blobs\n",
    "from sklearn.metrics import pairwise_distances\n",
    "import seaborn as sns\n",
    "import torch"
   ]
  },
  {
   "cell_type": "code",
   "execution_count": 186,
   "metadata": {},
   "outputs": [],
   "source": [
    "import pandas as pd\n",
    "import numpy as np"
   ]
  },
  {
   "cell_type": "code",
   "execution_count": 279,
   "metadata": {},
   "outputs": [],
   "source": [
    "import matplotlib\n",
    "import matplotlib.pyplot as plt\n",
    "import matplotlib.animation as animation"
   ]
  },
  {
   "cell_type": "markdown",
   "metadata": {},
   "source": [
    "# Generate test data"
   ]
  },
  {
   "cell_type": "code",
   "execution_count": 490,
   "metadata": {},
   "outputs": [],
   "source": [
    "N_points = 20\n",
    "N_features = 2"
   ]
  },
  {
   "cell_type": "code",
   "execution_count": 491,
   "metadata": {},
   "outputs": [],
   "source": [
    "X, y = make_blobs(n_samples=N_points, n_features=N_features)"
   ]
  },
  {
   "cell_type": "code",
   "execution_count": 492,
   "metadata": {},
   "outputs": [
    {
     "data": {
      "text/plain": [
       "<matplotlib.axes._subplots.AxesSubplot at 0x13feaff98>"
      ]
     },
     "execution_count": 492,
     "metadata": {},
     "output_type": "execute_result"
    },
    {
     "data": {
      "image/png": "[encoded data removed]",
      "text/plain": [
       "<Figure size 432x288 with 1 Axes>"
      ]
     },
     "metadata": {
      "needs_background": "light"
     },
     "output_type": "display_data"
    }
   ],
   "source": [
    "sns.scatterplot(X[:, 0], X[:, 1], hue=y)"
   ]
  },
  {
   "cell_type": "code",
   "execution_count": 493,
   "metadata": {},
   "outputs": [],
   "source": [
    "D = pairwise_distances(X)"
   ]
  },
  {
   "cell_type": "code",
   "execution_count": 494,
   "metadata": {},
   "outputs": [],
   "source": [
    "# extremely slow\n",
    "def compute_opt(dist, coords, features):\n",
    "    error = torch.tensor(0).type(torch.float32)\n",
    "    \n",
    "    for i in range(N_points):\n",
    "        for j in range(N_points):\n",
    "            if i == j:\n",
    "                continue\n",
    "            \n",
    "            local_error = dist[i, j] ** 2 \n",
    "            for k in range(features):\n",
    "                local_error -= torch.abs(coords[i, k] - coords[j, k])\n",
    "            \n",
    "            error += local_error**2\n",
    "    return error / (N_points ** 2)\n",
    "\n",
    "\n",
    "def compute_opt_matrix(dist, coords):\n",
    "    N_coords = coords.shape[0]\n",
    "    ones_tensor = torch.ones(N_coords).type(torch.float32).reshape(1, -1)\n",
    "    ones_tensor.requires_grad = False\n",
    "    \n",
    "    A = torch.mm(coords[:, 0].reshape(-1, 1), ones_tensor)\n",
    "    B = torch.mm(coords[:, 1].reshape(-1, 1), ones_tensor)\n",
    "    \n",
    "    C = torch.transpose(A, 0, 1) - A\n",
    "    R = torch.transpose(B, 0, 1) - B\n",
    "    \n",
    "    C = torch.mul(C, C)\n",
    "    R = torch.mul(R, R)\n",
    "    \n",
    "    D = torch.mul(dist, dist)\n",
    "    \n",
    "    K = D - C - R\n",
    "    \n",
    "    return torch.mean(torch.mul(K, K))\n",
    "    "
   ]
  },
  {
   "cell_type": "code",
   "execution_count": 495,
   "metadata": {},
   "outputs": [
    {
     "name": "stdout",
     "output_type": "stream",
     "text": [
      "tensor(3.4481e-10, grad_fn=<MeanBackward1>)\n"
     ]
    }
   ],
   "source": [
    "puni = torch.distributions.Uniform(-2, 2)\n",
    "\n",
    "X_t = puni.sample(sample_shape=[N_points, 2]).type(torch.float32)\n",
    "D_t = torch.from_numpy(D).type(torch.float32)\n",
    "\n",
    "X_t.requires_grad = True\n",
    "D_t.requires_grad = False\n",
    "\n",
    "for i in range(1, 1000):\n",
    "    E = compute_opt_matrix(D_t, X_t)\n",
    "    E.backward()\n",
    "    \n",
    "    with torch.no_grad():\n",
    "        X_t -= 0.01*X_t.grad;\n",
    "    \n",
    "    X_t.requires_grad = True\n",
    "    D_t.requires_grad = False\n",
    "    \n",
    "    X_t.grad = None\n",
    "print(E)"
   ]
  },
  {
   "cell_type": "code",
   "execution_count": 496,
   "metadata": {},
   "outputs": [],
   "source": [
    "X_n = X_t.detach().numpy()"
   ]
  },
  {
   "cell_type": "markdown",
   "metadata": {},
   "source": [
    "# Relative coordinates were recovered"
   ]
  },
  {
   "cell_type": "code",
   "execution_count": 497,
   "metadata": {},
   "outputs": [
    {
     "data": {
      "text/plain": [
       "<matplotlib.axes._subplots.AxesSubplot at 0x1408ede10>"
      ]
     },
     "execution_count": 497,
     "metadata": {},
     "output_type": "execute_result"
    },
    {
     "data": {
      "image/png": "[encoded data removed]",
      "text/plain": [
       "<Figure size 432x288 with 1 Axes>"
      ]
     },
     "metadata": {
      "needs_background": "light"
     },
     "output_type": "display_data"
    }
   ],
   "source": [
    "sns.scatterplot(X_n[:, 0], X_n[:, 1])"
   ]
  },
  {
   "cell_type": "markdown",
   "metadata": {},
   "source": [
    "# Example with confusion matrix"
   ]
  },
  {
   "cell_type": "code",
   "execution_count": 498,
   "metadata": {},
   "outputs": [],
   "source": [
    "D = pd.read_excel(\"/Users/ppogorelov/Downloads/confusion.xls\")\n",
    "D = D.set_index('name')\n",
    "D = D.values.astype(float)\n",
    "\n",
    "D = 1 - (D.T / D.sum(1)).T\n",
    "np.fill_diagonal(D, 0)\n",
    "N_points = D.shape[0]"
   ]
  },
  {
   "cell_type": "code",
   "execution_count": 499,
   "metadata": {},
   "outputs": [
    {
     "name": "stdout",
     "output_type": "stream",
     "text": [
      "tensor(0.6719, grad_fn=<MeanBackward1>)\n"
     ]
    }
   ],
   "source": [
    "puni = torch.distributions.Uniform(-2, 2)\n",
    "\n",
    "X_t = puni.sample(sample_shape=[N_points, 2]).type(torch.float32)\n",
    "D_t = torch.from_numpy(D).type(torch.float32)\n",
    "\n",
    "X_t.requires_grad = True\n",
    "D_t.requires_grad = False\n",
    "\n",
    "for i in range(1, 500):\n",
    "    E = compute_opt_matrix(D_t, X_t)\n",
    "    E.backward()\n",
    "    \n",
    "    with torch.no_grad():\n",
    "        X_t -= 0.01*X_t.grad;\n",
    "    \n",
    "    X_t.requires_grad = True\n",
    "    D_t.requires_grad = False\n",
    "    \n",
    "    X_t.grad = None\n",
    "print(E)"
   ]
  },
  {
   "cell_type": "markdown",
   "metadata": {},
   "source": [
    "# Looks like a mess, maybe replace euclidean distance with cosine distance"
   ]
  },
  {
   "cell_type": "code",
   "execution_count": 500,
   "metadata": {},
   "outputs": [
    {
     "data": {
      "text/plain": [
       "<matplotlib.axes._subplots.AxesSubplot at 0x13e4c6a90>"
      ]
     },
     "execution_count": 500,
     "metadata": {},
     "output_type": "execute_result"
    },
    {
     "data": {
      "image/png": "[encoded data removed]",
      "text/plain": [
       "<Figure size 432x288 with 1 Axes>"
      ]
     },
     "metadata": {
      "needs_background": "light"
     },
     "output_type": "display_data"
    }
   ],
   "source": [
    "X_n = X_t.detach().numpy()\n",
    "sns.scatterplot(X_n[:, 0], X_n[:, 1])"
   ]
  },
  {
   "cell_type": "code",
   "execution_count": null,
   "metadata": {},
   "outputs": [],
   "source": []
  }
 ],
 "metadata": {
  "kernelspec": {
   "display_name": "Python 3",
   "language": "python",
   "name": "python3"
  },
  "language_info": {
   "codemirror_mode": {
    "name": "ipython",
    "version": 3
   },
   "file_extension": ".py",
   "mimetype": "text/x-python",
   "name": "python",
   "nbconvert_exporter": "python",
   "pygments_lexer": "ipython3",
   "version": "3.7.3"
  }
 },
 "nbformat": 4,
 "nbformat_minor": 4
}
